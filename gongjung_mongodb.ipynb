{
 "cells": [
  {
   "cell_type": "code",
   "execution_count": 1,
   "metadata": {},
   "outputs": [],
   "source": [
    "import requests\n",
    "from bs4 import BeautifulSoup\n",
    "\n",
    "dataIdx_dic = {\"맘스터치\": \"70916\", \"BHC\": \"63110\", \"굽네치킨\": \"68742\", \"네네치킨\": \"63330\", \"BBQ\": \"61999\", \"멕시카나\": \"68643\",\n",
    "               \"노랑통닭\": \"73398\", \"바른치킨\": \"66901\", \"부어치킨\": \"65480\", \"순수치킨\": \"72165\", \"처갓집\": \"70831\",\n",
    "               \"호식이두마리치킨\": \"69732\", \"페리카나\": \"68748\", \"아웃닭\": \"57874\", \"땅땅치킨\": \"68220\", \"또래오래\": \"66885\",\n",
    "               \"깐부치킨\": \"68508\", \"맥시칸치킨\": \"67269\", \"또봉이통닭\": \"66934\", \"지코바양념치킨\": \"69199\", \"디디치킨\": \"71598\",\n",
    "               \"마파치킨\": \"66820\", \"훌랄라치킨\": \"62455\", \"오븐마루\": \"65757\", \"웰덤치킨\": \"61040\"}\n",
    "\n",
    "def makeCompanyInfoLink(inputString):\n",
    "    search_link_format = \"http://franchise.ftc.go.kr/user/extra/main/62/firMst/view/jsp/LayOutPage.do?dataIdx=\"\n",
    "    search_link_format2 = \"&spage=1&srow=10&column=brd&search=\"\n",
    "    try:\n",
    "        inputString = inputString.upper()\n",
    "        dataIdx = dataIdx_dic[inputString]\n",
    "        encodingName = requests.utils.quote(inputString)\n",
    "        link = search_link_format + dataIdx + search_link_format2 + encodingName\n",
    "    except:\n",
    "        print(\"{}는 아직 서비스를 지원하지 않습니다.\".format(inputString))\n",
    "        link = \"error\"\n",
    "\n",
    "    return link"
   ]
  },
  {
   "cell_type": "code",
   "execution_count": 13,
   "metadata": {},
   "outputs": [
    {
     "name": "stdout",
     "output_type": "stream",
     "text": [
      "맘스터치\n",
      "BHC\n",
      "굽네치킨\n",
      "네네치킨\n",
      "BBQ\n",
      "멕시카나\n",
      "노랑통닭\n",
      "바른치킨\n",
      "부어치킨\n",
      "순수치킨\n",
      "처갓집\n",
      "호식이두마리치킨\n",
      "페리카나\n",
      "아웃닭\n",
      "땅땅치킨\n",
      "또래오래\n",
      "깐부치킨\n",
      "맥시칸치킨\n",
      "또봉이통닭\n",
      "지코바양념치킨\n",
      "디디치킨\n",
      "마파치킨\n",
      "훌랄라치킨\n",
      "오븐마루\n",
      "웰덤치킨\n"
     ]
    }
   ],
   "source": []
  },
  {
   "cell_type": "code",
   "execution_count": null,
   "metadata": {},
   "outputs": [],
   "source": []
  }
 ],
 "metadata": {
  "kernelspec": {
   "display_name": "Python 3",
   "language": "python",
   "name": "python3"
  },
  "language_info": {
   "codemirror_mode": {
    "name": "ipython",
    "version": 3
   },
   "file_extension": ".py",
   "mimetype": "text/x-python",
   "name": "python",
   "nbconvert_exporter": "python",
   "pygments_lexer": "ipython3",
   "version": "3.7.3"
  }
 },
 "nbformat": 4,
 "nbformat_minor": 2
}
